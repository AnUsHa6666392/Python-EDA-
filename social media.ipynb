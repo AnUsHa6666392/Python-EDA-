{
 "cells": [
  {
   "cell_type": "code",
   "execution_count": 1,
   "id": "414c940e-14b9-4534-b10c-f8e7209f9d2d",
   "metadata": {},
   "outputs": [],
   "source": [
    "import pandas as pd"
   ]
  },
  {
   "cell_type": "code",
   "execution_count": 3,
   "id": "9fc243df-264a-422d-a791-746cffce8f29",
   "metadata": {},
   "outputs": [],
   "source": [
    "# Load the dataset\n",
    "df = pd.read_csv(r\"C:\\Users\\ANUSHA\\Downloads\\dataset.csv\")\n"
   ]
  },
  {
   "cell_type": "code",
   "execution_count": 5,
   "id": "363e146f-a7c2-4cc6-8995-22ad33bf7e2b",
   "metadata": {},
   "outputs": [
    {
     "data": {
      "text/html": [
       "<div>\n",
       "<style scoped>\n",
       "    .dataframe tbody tr th:only-of-type {\n",
       "        vertical-align: middle;\n",
       "    }\n",
       "\n",
       "    .dataframe tbody tr th {\n",
       "        vertical-align: top;\n",
       "    }\n",
       "\n",
       "    .dataframe thead th {\n",
       "        text-align: right;\n",
       "    }\n",
       "</style>\n",
       "<table border=\"1\" class=\"dataframe\">\n",
       "  <thead>\n",
       "    <tr style=\"text-align: right;\">\n",
       "      <th></th>\n",
       "      <th>What is your age group?</th>\n",
       "      <th>What is your occupation?</th>\n",
       "      <th>Where do you live?</th>\n",
       "      <th>How many hours per day do you spend on social media?</th>\n",
       "      <th>How has social media affected your real-life relationships?</th>\n",
       "      <th>How frequently do you use email for communication?</th>\n",
       "      <th>Do you use LinkedIn for professional networking?</th>\n",
       "      <th>How often do you use WhatsApp for communication?</th>\n",
       "      <th>Which social media platforms do you use the most?</th>\n",
       "      <th>Do you feel that social media affects your mental health?</th>\n",
       "    </tr>\n",
       "  </thead>\n",
       "  <tbody>\n",
       "    <tr>\n",
       "      <th>0</th>\n",
       "      <td>18-25</td>\n",
       "      <td>Student</td>\n",
       "      <td>Urban Area</td>\n",
       "      <td>More than 5 hours</td>\n",
       "      <td>Improved</td>\n",
       "      <td>Daily</td>\n",
       "      <td>Yes, actively</td>\n",
       "      <td>Daily</td>\n",
       "      <td>LinkedIn</td>\n",
       "      <td>Yes, negatively</td>\n",
       "    </tr>\n",
       "    <tr>\n",
       "      <th>1</th>\n",
       "      <td>18-25</td>\n",
       "      <td>Student</td>\n",
       "      <td>Urban Area</td>\n",
       "      <td>3-5 hours</td>\n",
       "      <td>No Change</td>\n",
       "      <td>Never</td>\n",
       "      <td>No, never</td>\n",
       "      <td>Daily</td>\n",
       "      <td>Others</td>\n",
       "      <td>Not sure</td>\n",
       "    </tr>\n",
       "    <tr>\n",
       "      <th>2</th>\n",
       "      <td>18-25</td>\n",
       "      <td>Student</td>\n",
       "      <td>Urban Area</td>\n",
       "      <td>3-5 hours</td>\n",
       "      <td>No Change</td>\n",
       "      <td>Rarely</td>\n",
       "      <td>Rarely</td>\n",
       "      <td>Daily</td>\n",
       "      <td>Facebook</td>\n",
       "      <td>Not sure</td>\n",
       "    </tr>\n",
       "    <tr>\n",
       "      <th>3</th>\n",
       "      <td>18-25</td>\n",
       "      <td>Student</td>\n",
       "      <td>Urban Area</td>\n",
       "      <td>3-5 hours</td>\n",
       "      <td>Worsened</td>\n",
       "      <td>Never</td>\n",
       "      <td>No, never</td>\n",
       "      <td>Daily</td>\n",
       "      <td>Facebook</td>\n",
       "      <td>Yes, negatively</td>\n",
       "    </tr>\n",
       "    <tr>\n",
       "      <th>4</th>\n",
       "      <td>18-25</td>\n",
       "      <td>Student</td>\n",
       "      <td>Suburban Area</td>\n",
       "      <td>3-5 hours</td>\n",
       "      <td>Improved</td>\n",
       "      <td>A few times a week</td>\n",
       "      <td>Yes, actively</td>\n",
       "      <td>Daily</td>\n",
       "      <td>Facebook</td>\n",
       "      <td>Yes, negatively</td>\n",
       "    </tr>\n",
       "  </tbody>\n",
       "</table>\n",
       "</div>"
      ],
      "text/plain": [
       "  What is your age group?    What is your occupation?  Where do you live?   \\\n",
       "0                    18-25                     Student          Urban Area   \n",
       "1                    18-25                     Student          Urban Area   \n",
       "2                    18-25                     Student          Urban Area   \n",
       "3                    18-25                     Student          Urban Area   \n",
       "4                    18-25                     Student       Suburban Area   \n",
       "\n",
       "  How many hours per day do you spend on social media?   \\\n",
       "0                                  More than 5 hours      \n",
       "1                                          3-5 hours      \n",
       "2                                          3-5 hours      \n",
       "3                                          3-5 hours      \n",
       "4                                          3-5 hours      \n",
       "\n",
       "  How has social media affected your real-life relationships?   \\\n",
       "0                                           Improved             \n",
       "1                                          No Change             \n",
       "2                                          No Change             \n",
       "3                                           Worsened             \n",
       "4                                           Improved             \n",
       "\n",
       "  How frequently do you use email for communication?   \\\n",
       "0                                              Daily    \n",
       "1                                              Never    \n",
       "2                                             Rarely    \n",
       "3                                              Never    \n",
       "4                                 A few times a week    \n",
       "\n",
       "  Do you use LinkedIn for professional networking?    \\\n",
       "0                                      Yes, actively   \n",
       "1                                          No, never   \n",
       "2                                             Rarely   \n",
       "3                                          No, never   \n",
       "4                                      Yes, actively   \n",
       "\n",
       "  How often do you use WhatsApp for communication?   \\\n",
       "0                                             Daily   \n",
       "1                                             Daily   \n",
       "2                                             Daily   \n",
       "3                                             Daily   \n",
       "4                                             Daily   \n",
       "\n",
       "  Which social media platforms do you use the most?    \\\n",
       "0                                           LinkedIn    \n",
       "1                                             Others    \n",
       "2                                           Facebook    \n",
       "3                                           Facebook    \n",
       "4                                           Facebook    \n",
       "\n",
       "  Do you feel that social media affects your mental health?    \n",
       "0                                    Yes, negatively           \n",
       "1                                           Not sure           \n",
       "2                                           Not sure           \n",
       "3                                    Yes, negatively           \n",
       "4                                    Yes, negatively           "
      ]
     },
     "execution_count": 5,
     "metadata": {},
     "output_type": "execute_result"
    }
   ],
   "source": [
    "# Show first 5 rows\n",
    "df.head()"
   ]
  },
  {
   "cell_type": "code",
   "execution_count": 7,
   "id": "eefd7be8-4133-43ee-be59-d4361a4d0a95",
   "metadata": {},
   "outputs": [
    {
     "name": "stdout",
     "output_type": "stream",
     "text": [
      "Shape of dataset: (49, 10)\n"
     ]
    }
   ],
   "source": [
    "# Shape of the dataset\n",
    "print(\"Shape of dataset:\", df.shape)\n"
   ]
  },
  {
   "cell_type": "code",
   "execution_count": 9,
   "id": "56fa14c0-9407-4101-87b7-6fb88ff8e9da",
   "metadata": {},
   "outputs": [
    {
     "name": "stdout",
     "output_type": "stream",
     "text": [
      "<class 'pandas.core.frame.DataFrame'>\n",
      "RangeIndex: 49 entries, 0 to 48\n",
      "Data columns (total 10 columns):\n",
      " #   Column                                                        Non-Null Count  Dtype \n",
      "---  ------                                                        --------------  ----- \n",
      " 0   What is your age group?                                       49 non-null     object\n",
      " 1     What is your occupation?                                    49 non-null     object\n",
      " 2   Where do you live?                                            49 non-null     object\n",
      " 3   How many hours per day do you spend on social media?          49 non-null     object\n",
      " 4   How has social media affected your real-life relationships?   49 non-null     object\n",
      " 5   How frequently do you use email for communication?            49 non-null     object\n",
      " 6   Do you use LinkedIn for professional networking?              49 non-null     object\n",
      " 7   How often do you use WhatsApp for communication?              49 non-null     object\n",
      " 8   Which social media platforms do you use the most?             49 non-null     object\n",
      " 9   Do you feel that social media affects your mental health?     49 non-null     object\n",
      "dtypes: object(10)\n",
      "memory usage: 4.0+ KB\n"
     ]
    }
   ],
   "source": [
    "# Data types and null values\n",
    "df.info()\n"
   ]
  },
  {
   "cell_type": "code",
   "execution_count": 185,
   "id": "e29a3920-c90a-48a3-8d68-5203712fbaae",
   "metadata": {},
   "outputs": [
    {
     "name": "stdout",
     "output_type": "stream",
     "text": [
      "<class 'pandas.core.frame.DataFrame'>\n",
      "RangeIndex: 49 entries, 0 to 48\n",
      "Data columns (total 10 columns):\n",
      " #   Column                                                       Non-Null Count  Dtype \n",
      "---  ------                                                       --------------  ----- \n",
      " 0   What is your age group?                                      49 non-null     object\n",
      " 1   What is your occupation?                                     49 non-null     object\n",
      " 2   Where do you live?                                           49 non-null     object\n",
      " 3   How many hours per day do you spend on social media?         49 non-null     object\n",
      " 4   How has social media affected your real-life relationships?  49 non-null     object\n",
      " 5   How frequently do you use email for communication?           49 non-null     object\n",
      " 6   Do you use LinkedIn for professional networking?             49 non-null     object\n",
      " 7   How often do you use WhatsApp for communication?             49 non-null     object\n",
      " 8   Which social media platforms do you use the most?            49 non-null     object\n",
      " 9   Do you feel that social media affects your mental health?    49 non-null     object\n",
      "dtypes: object(10)\n",
      "memory usage: 4.0+ KB\n"
     ]
    }
   ],
   "source": [
    "df.describe()"
   ]
  },
  {
   "cell_type": "code",
   "execution_count": 187,
   "id": "23b42158-9bad-4afc-9e25-fe7fae33d35e",
   "metadata": {},
   "outputs": [
    {
     "data": {
      "text/plain": [
       "What is your age group?                                        2\n",
       "What is your occupation?                                       5\n",
       "Where do you live?                                             3\n",
       "How many hours per day do you spend on social media?           4\n",
       "How has social media affected your real-life relationships?    3\n",
       "How frequently do you use email for communication?             4\n",
       "Do you use LinkedIn for professional networking?               4\n",
       "How often do you use WhatsApp for communication?               3\n",
       "Which social media platforms do you use the most?              4\n",
       "Do you feel that social media affects your mental health?      4\n",
       "dtype: int64"
      ]
     },
     "execution_count": 187,
     "metadata": {},
     "output_type": "execute_result"
    }
   ],
   "source": [
    "df.nunique()"
   ]
  },
  {
   "cell_type": "code",
   "execution_count": null,
   "id": "8d113274-d46b-4002-b55f-76ef0b63fbe0",
   "metadata": {},
   "outputs": [],
   "source": [
    "#Check for Duplicates and Handle Them"
   ]
  },
  {
   "cell_type": "code",
   "execution_count": 11,
   "id": "a8e224e2-f372-4a7a-91d0-79c5ca01ae59",
   "metadata": {},
   "outputs": [
    {
     "name": "stdout",
     "output_type": "stream",
     "text": [
      "Total duplicate rows: 3\n"
     ]
    }
   ],
   "source": [
    "# Check for duplicate rows\n",
    "duplicates = df.duplicated().sum()\n",
    "print(f\"Total duplicate rows: {duplicates}\")"
   ]
  },
  {
   "cell_type": "code",
   "execution_count": 13,
   "id": "bcc4eafb-a561-4e0f-b4fc-0ab547e7d631",
   "metadata": {},
   "outputs": [],
   "source": [
    "# Drop duplicates\n",
    "df = df.drop_duplicates()"
   ]
  },
  {
   "cell_type": "code",
   "execution_count": null,
   "id": "a961d782-69d7-40f2-87f7-3f31894bced5",
   "metadata": {},
   "outputs": [],
   "source": [
    "# Handle Missing Values"
   ]
  },
  {
   "cell_type": "code",
   "execution_count": 15,
   "id": "946e8194-9c79-4218-b813-51600e34e0e1",
   "metadata": {},
   "outputs": [
    {
     "name": "stdout",
     "output_type": "stream",
     "text": [
      "Missing values per column:\n",
      " What is your age group?                                         0\n",
      "  What is your occupation?                                      0\n",
      "Where do you live?                                              0\n",
      "How many hours per day do you spend on social media?            0\n",
      "How has social media affected your real-life relationships?     0\n",
      "How frequently do you use email for communication?              0\n",
      "Do you use LinkedIn for professional networking?                0\n",
      "How often do you use WhatsApp for communication?                0\n",
      "Which social media platforms do you use the most?               0\n",
      "Do you feel that social media affects your mental health?       0\n",
      "dtype: int64\n"
     ]
    }
   ],
   "source": [
    "# Check for missing values\n",
    "missing = df.isnull().sum()\n",
    "print(\"Missing values per column:\\n\", missing)"
   ]
  },
  {
   "cell_type": "code",
   "execution_count": 17,
   "id": "496f5b75-9164-4b01-848d-05d05e0673e2",
   "metadata": {},
   "outputs": [],
   "source": [
    "# Optionally drop or fill\n",
    "# Example: fill missing numeric columns with median\n",
    "df.fillna(df.median(numeric_only=True), inplace=True)\n",
    "# Or drop rows if few\n",
    "# df.dropna(inplace=True)"
   ]
  },
  {
   "cell_type": "code",
   "execution_count": 19,
   "id": "30802f6a-c5fc-4640-883c-413236636d17",
   "metadata": {},
   "outputs": [],
   "source": [
    "#Identify the Target Variable"
   ]
  },
  {
   "cell_type": "code",
   "execution_count": 21,
   "id": "ba24d73d-6ff4-4756-b5d4-dcfb7a4a2d55",
   "metadata": {},
   "outputs": [
    {
     "data": {
      "text/plain": [
       "Index(['What is your age group? ', '  What is your occupation? ',\n",
       "       'Where do you live? ',\n",
       "       'How many hours per day do you spend on social media? ',\n",
       "       'How has social media affected your real-life relationships? ',\n",
       "       'How frequently do you use email for communication? ',\n",
       "       'Do you use LinkedIn for professional networking?  ',\n",
       "       'How often do you use WhatsApp for communication? ',\n",
       "       'Which social media platforms do you use the most?  ',\n",
       "       'Do you feel that social media affects your mental health?  '],\n",
       "      dtype='object')"
      ]
     },
     "execution_count": 21,
     "metadata": {},
     "output_type": "execute_result"
    }
   ],
   "source": [
    "# Show column names\n",
    "df.columns"
   ]
  },
  {
   "cell_type": "code",
   "execution_count": 27,
   "id": "1feb7f1b-f6fc-4caa-88fc-51b2e16356cf",
   "metadata": {},
   "outputs": [],
   "source": [
    "# Clean column names by stripping whitespace\n",
    "df.columns = df.columns.str.strip()"
   ]
  },
  {
   "cell_type": "code",
   "execution_count": 29,
   "id": "61bbf9fe-ba2b-4acd-be35-e5e8c985a771",
   "metadata": {},
   "outputs": [
    {
     "name": "stdout",
     "output_type": "stream",
     "text": [
      "['What is your age group?', 'What is your occupation?', 'Where do you live?', 'How many hours per day do you spend on social media?', 'How has social media affected your real-life relationships?', 'How frequently do you use email for communication?', 'Do you use LinkedIn for professional networking?', 'How often do you use WhatsApp for communication?', 'Which social media platforms do you use the most?', 'Do you feel that social media affects your mental health?']\n"
     ]
    }
   ],
   "source": [
    "# Show cleaned column names\n",
    "print(df.columns.tolist())"
   ]
  },
  {
   "cell_type": "code",
   "execution_count": 31,
   "id": "fb47ea9d-694c-427d-8edd-8524791a404b",
   "metadata": {},
   "outputs": [
    {
     "data": {
      "text/plain": [
       "Do you feel that social media affects your mental health?\n",
       "Yes, negatively         21\n",
       "Not sure                13\n",
       "Yes, positively          9\n",
       "No, it has no effect     3\n",
       "Name: count, dtype: int64"
      ]
     },
     "execution_count": 31,
     "metadata": {},
     "output_type": "execute_result"
    }
   ],
   "source": [
    "# View unique values in the target column\n",
    "df[\"Do you feel that social media affects your mental health?\"].value_counts()"
   ]
  },
  {
   "cell_type": "code",
   "execution_count": null,
   "id": "7b16ac42-b5a0-4acb-9d23-f9ef42942a65",
   "metadata": {},
   "outputs": [],
   "source": [
    "#Univariate & Bivariate Analysis"
   ]
  },
  {
   "cell_type": "code",
   "execution_count": 41,
   "id": "35f0adca-9704-4e2e-9905-9fe7581c47ce",
   "metadata": {},
   "outputs": [],
   "source": [
    "import matplotlib.pyplot as plt\n",
    "import seaborn as sns\n"
   ]
  },
  {
   "cell_type": "code",
   "execution_count": 45,
   "id": "128ca77f-ab6d-453a-8bf1-1a0ec81d9a6c",
   "metadata": {},
   "outputs": [],
   "source": [
    "df.columns = df.columns.str.strip()"
   ]
  },
  {
   "cell_type": "code",
   "execution_count": 47,
   "id": "afc2ea6b-6355-4afe-a62c-81bef70dedbc",
   "metadata": {},
   "outputs": [
    {
     "name": "stdout",
     "output_type": "stream",
     "text": [
      "['What is your age group?', 'What is your occupation?', 'Where do you live?', 'How many hours per day do you spend on social media?', 'How has social media affected your real-life relationships?', 'How frequently do you use email for communication?', 'Do you use LinkedIn for professional networking?', 'How often do you use WhatsApp for communication?', 'Which social media platforms do you use the most?', 'Do you feel that social media affects your mental health?']\n"
     ]
    }
   ],
   "source": [
    "print(df.columns.tolist())"
   ]
  },
  {
   "cell_type": "code",
   "execution_count": 49,
   "id": "ea0dd58d-7410-476c-b397-0d8c672b2004",
   "metadata": {},
   "outputs": [
    {
     "data": {
      "text/plain": [
       "What is your age group?                                        object\n",
       "What is your occupation?                                       object\n",
       "Where do you live?                                             object\n",
       "How many hours per day do you spend on social media?           object\n",
       "How has social media affected your real-life relationships?    object\n",
       "How frequently do you use email for communication?             object\n",
       "Do you use LinkedIn for professional networking?               object\n",
       "How often do you use WhatsApp for communication?               object\n",
       "Which social media platforms do you use the most?              object\n",
       "Do you feel that social media affects your mental health?      object\n",
       "dtype: object"
      ]
     },
     "execution_count": 49,
     "metadata": {},
     "output_type": "execute_result"
    }
   ],
   "source": [
    "df.dtypes"
   ]
  },
  {
   "cell_type": "code",
   "execution_count": 53,
   "id": "f227c432-da68-4ff8-bac3-ff2d2cba3951",
   "metadata": {},
   "outputs": [
    {
     "data": {
      "text/plain": [
       "Text(0.5, 1.0, 'Social Media Usage Hours')"
      ]
     },
     "execution_count": 53,
     "metadata": {},
     "output_type": "execute_result"
    },
    {
     "data": {
      "image/png": "[encoded data removed]",
      "text/plain": [
       "<Figure size 640x480 with 1 Axes>"
      ]
     },
     "metadata": {},
     "output_type": "display_data"
    }
   ],
   "source": [
    "sns.countplot(x='How many hours per day do you spend on social media?', data=df)\n",
    "plt.xticks(rotation=45)\n",
    "plt.title('Social Media Usage Hours')"
   ]
  },
  {
   "cell_type": "code",
   "execution_count": 59,
   "id": "5c3f783c-3c2e-45cf-a804-5aa785de6efd",
   "metadata": {},
   "outputs": [
    {
     "name": "stdout",
     "output_type": "stream",
     "text": [
      "What is your age group?                                        object\n",
      "What is your occupation?                                       object\n",
      "Where do you live?                                             object\n",
      "How many hours per day do you spend on social media?           object\n",
      "How has social media affected your real-life relationships?    object\n",
      "How frequently do you use email for communication?             object\n",
      "Do you use LinkedIn for professional networking?               object\n",
      "How often do you use WhatsApp for communication?               object\n",
      "Which social media platforms do you use the most?              object\n",
      "Do you feel that social media affects your mental health?      object\n",
      "dtype: object\n"
     ]
    }
   ],
   "source": [
    "print(df.dtypes)"
   ]
  },
  {
   "cell_type": "code",
   "execution_count": 61,
   "id": "6c3070fa-5f32-4ae7-8fa0-6c4dbf156c05",
   "metadata": {},
   "outputs": [],
   "source": [
    "import seaborn as sns\n",
    "import matplotlib.pyplot as plt"
   ]
  },
  {
   "cell_type": "code",
   "execution_count": 63,
   "id": "ac56b96e-2afa-4934-ab01-769115eb838a",
   "metadata": {},
   "outputs": [
    {
     "data": {
      "image/png": "[encoded data removed]",
      "text/plain": [
       "<Figure size 1000x600 with 1 Axes>"
      ]
     },
     "metadata": {},
     "output_type": "display_data"
    }
   ],
   "source": [
    "plt.figure(figsize=(10,6))\n",
    "sns.countplot(\n",
    "    data=df,\n",
    "    x='What is your age group?',\n",
    "    hue='Do you feel that social media affects your mental health?'\n",
    ")\n",
    "plt.xticks(rotation=45)\n",
    "plt.title('Mental Health Impact by Age Group')\n",
    "plt.legend(title='Mental Health Effect')\n",
    "plt.tight_layout()"
   ]
  },
  {
   "cell_type": "code",
   "execution_count": 69,
   "id": "7e42ba7b-8459-4161-a468-6462b54a6b48",
   "metadata": {},
   "outputs": [],
   "source": [
    "# Convert a suitable column to numeric (example only)\n",
    "df['How many hours per day do you spend on social media?'] = pd.to_numeric(\n",
    "    df['How many hours per day do you spend on social media?'], errors='coerce'\n",
    ")\n"
   ]
  },
  {
   "cell_type": "code",
   "execution_count": 71,
   "id": "52e2a81b-1513-4584-a6c9-3f15454bd7af",
   "metadata": {},
   "outputs": [],
   "source": [
    "# Then try correlation again\n",
    "corr = df.corr(numeric_only=True)"
   ]
  },
  {
   "cell_type": "code",
   "execution_count": 81,
   "id": "18b816ed-c42d-4555-aaa2-feefc8a349e3",
   "metadata": {},
   "outputs": [],
   "source": [
    "from sklearn.preprocessing import LabelEncoder"
   ]
  },
  {
   "cell_type": "code",
   "execution_count": null,
   "id": "829aa266-48cd-4f42-815d-9bf62fd1eb89",
   "metadata": {},
   "outputs": [],
   "source": [
    "label_encoders = {}\n",
    "for col in df.select_dtypes(include='object'):\n",
    "    le = LabelEncoder()\n",
    "    df[col] = le.fit_transform(df[col])\n",
    "    label_encoders[col] = le"
   ]
  },
  {
   "cell_type": "code",
   "execution_count": 89,
   "id": "02515186-78e6-4297-bfa5-67fe103c327c",
   "metadata": {},
   "outputs": [],
   "source": [
    "from sklearn.model_selection import train_test_split\n",
    "\n",
    "\n"
   ]
  },
  {
   "cell_type": "code",
   "execution_count": 97,
   "id": "b2e2b3be-252c-42d9-9838-0e9b2f6cbe8a",
   "metadata": {},
   "outputs": [
    {
     "name": "stdout",
     "output_type": "stream",
     "text": [
      "Index(['What is your age group?', 'What is your occupation?',\n",
      "       'Where do you live?',\n",
      "       'How many hours per day do you spend on social media?',\n",
      "       'How has social media affected your real-life relationships?',\n",
      "       'How frequently do you use email for communication?',\n",
      "       'Do you use LinkedIn for professional networking?',\n",
      "       'How often do you use WhatsApp for communication?',\n",
      "       'Which social media platforms do you use the most?',\n",
      "       'Do you feel that social media affects your mental health?'],\n",
      "      dtype='object')\n"
     ]
    }
   ],
   "source": [
    "print(df.columns)"
   ]
  },
  {
   "cell_type": "code",
   "execution_count": null,
   "id": "2c790ce9-4dc9-475f-890f-dbbb042c84b4",
   "metadata": {},
   "outputs": [],
   "source": []
  },
  {
   "cell_type": "code",
   "execution_count": 107,
   "id": "afc1e1da-3dc7-4391-8728-1cf4e64faf05",
   "metadata": {},
   "outputs": [
    {
     "name": "stdout",
     "output_type": "stream",
     "text": [
      "All columns in DataFrame:\n",
      "['What is your age group?', 'What is your occupation?', 'Where do you live?', 'How many hours per day do you spend on social media?', 'How has social media affected your real-life relationships?', 'How frequently do you use email for communication?', 'Do you use LinkedIn for professional networking?', 'How often do you use WhatsApp for communication?', 'Which social media platforms do you use the most?', 'Do you feel that social media affects your mental health?']\n"
     ]
    }
   ],
   "source": [
    "# Show all columns in the DataFrame\n",
    "print(\"All columns in DataFrame:\")\n",
    "print(df.columns.tolist())\n",
    "\n"
   ]
  },
  {
   "cell_type": "code",
   "execution_count": 109,
   "id": "40e76f53-9b36-40c5-8166-c2fdc359531e",
   "metadata": {},
   "outputs": [
    {
     "name": "stdout",
     "output_type": "stream",
     "text": [
      "\n",
      "Cleaned column names:\n",
      "['What is your age group?', 'What is your occupation?', 'Where do you live?', 'How many hours per day do you spend on social media?', 'How has social media affected your real-life relationships?', 'How frequently do you use email for communication?', 'Do you use LinkedIn for professional networking?', 'How often do you use WhatsApp for communication?', 'Which social media platforms do you use the most?', 'Do you feel that social media affects your mental health?']\n"
     ]
    }
   ],
   "source": [
    "# Let's also check for hidden characters or trailing spaces\n",
    "print(\"\\nCleaned column names:\")\n",
    "df.columns = df.columns.str.strip()  # Remove leading/trailing spaces\n",
    "print(df.columns.tolist())"
   ]
  },
  {
   "cell_type": "code",
   "execution_count": 111,
   "id": "4dff1243-d0e0-42d6-9122-8077b291af21",
   "metadata": {},
   "outputs": [
    {
     "name": "stdout",
     "output_type": "stream",
     "text": [
      "Column 'Sentiment_Label' not found!\n"
     ]
    }
   ],
   "source": [
    "target_col = 'Sentiment_Label'  # <-- Update this with the exact name\n",
    "\n",
    "# Check if it's actually there\n",
    "if target_col in df.columns:\n",
    "    X = df.drop(target_col, axis=1)\n",
    "    y = df[target_col]\n",
    "else:\n",
    "    print(f\"Column '{target_col}' not found!\")"
   ]
  },
  {
   "cell_type": "code",
   "execution_count": 117,
   "id": "5d4108c1-e359-4414-a225-d7e37136582b",
   "metadata": {},
   "outputs": [],
   "source": [
    "from sklearn.model_selection import train_test_split"
   ]
  },
  {
   "cell_type": "code",
   "execution_count": 125,
   "id": "1d2e61fb-b074-4ec2-a5e9-3437ccb02716",
   "metadata": {},
   "outputs": [],
   "source": [
    "from sklearn.ensemble import RandomForestClassifier\n",
    "from sklearn.metrics import classification_report, accuracy_score\n",
    "\n"
   ]
  },
  {
   "cell_type": "code",
   "execution_count": 133,
   "id": "e6bc07ab-3204-4239-af82-ead6a0a00e6d",
   "metadata": {},
   "outputs": [],
   "source": [
    "# Clean column names\n",
    "df.columns = df.columns.str.strip()\n",
    "\n"
   ]
  },
  {
   "cell_type": "code",
   "execution_count": 135,
   "id": "21c85a1d-7299-4ddf-9473-3c2f97f94cdb",
   "metadata": {},
   "outputs": [
    {
     "name": "stdout",
     "output_type": "stream",
     "text": [
      "['What is your age group?', 'What is your occupation?', 'Where do you live?', 'How many hours per day do you spend on social media?', 'How has social media affected your real-life relationships?', 'How frequently do you use email for communication?', 'Do you use LinkedIn for professional networking?', 'How often do you use WhatsApp for communication?', 'Which social media platforms do you use the most?', 'Do you feel that social media affects your mental health?']\n"
     ]
    }
   ],
   "source": [
    "# Print all column names\n",
    "print(df.columns.tolist())"
   ]
  },
  {
   "cell_type": "code",
   "execution_count": 139,
   "id": "f9bed3a3-922e-4210-8eb5-01e3452648f7",
   "metadata": {},
   "outputs": [
    {
     "name": "stdout",
     "output_type": "stream",
     "text": [
      "['What is your age group?', 'What is your occupation?', 'Where do you live?', 'How many hours per day do you spend on social media?', 'How has social media affected your real-life relationships?', 'How frequently do you use email for communication?', 'Do you use LinkedIn for professional networking?', 'How often do you use WhatsApp for communication?', 'Which social media platforms do you use the most?', 'Do you feel that social media affects your mental health?']\n"
     ]
    }
   ],
   "source": [
    "print(df.columns.tolist())"
   ]
  },
  {
   "cell_type": "code",
   "execution_count": 141,
   "id": "f5e16ed1-06a2-4bf6-bf43-b4ec59a2cd18",
   "metadata": {},
   "outputs": [
    {
     "data": {
      "text/plain": [
       "['Post_ID', 'Post_Text', 'Likes', 'Shares', 'Sentiment', 'Comments']"
      ]
     },
     "execution_count": 141,
     "metadata": {},
     "output_type": "execute_result"
    }
   ],
   "source": [
    "['Post_ID', 'Post_Text', 'Likes', 'Shares', 'Sentiment', 'Comments']"
   ]
  },
  {
   "cell_type": "code",
   "execution_count": 143,
   "id": "f081c2dd-52c1-474f-a867-b74750f99365",
   "metadata": {},
   "outputs": [],
   "source": [
    "df.columns = df.columns.str.strip()"
   ]
  },
  {
   "cell_type": "code",
   "execution_count": 145,
   "id": "94ec246e-1b28-475d-8a6e-17623981ef5b",
   "metadata": {},
   "outputs": [
    {
     "name": "stdout",
     "output_type": "stream",
     "text": [
      "['What is your age group?', 'What is your occupation?', 'Where do you live?', 'How many hours per day do you spend on social media?', 'How has social media affected your real-life relationships?', 'How frequently do you use email for communication?', 'Do you use LinkedIn for professional networking?', 'How often do you use WhatsApp for communication?', 'Which social media platforms do you use the most?', 'Do you feel that social media affects your mental health?']\n"
     ]
    }
   ],
   "source": [
    "print(df.columns.tolist())"
   ]
  },
  {
   "cell_type": "code",
   "execution_count": 147,
   "id": "e6ccbf33-3dda-4ff7-b710-317d2d3eed85",
   "metadata": {},
   "outputs": [
    {
     "name": "stdout",
     "output_type": "stream",
     "text": [
      "Target column 'Sentiment' not found!\n"
     ]
    }
   ],
   "source": [
    "target_col = 'Sentiment'  # <-- replace with correct name you found\n",
    "\n",
    "if target_col in df.columns:\n",
    "    X = df.drop(target_col, axis=1)\n",
    "    y = df[target_col]\n",
    "else:\n",
    "    print(f\"Target column '{target_col}' not found!\")"
   ]
  },
  {
   "cell_type": "code",
   "execution_count": 149,
   "id": "96b1fed5-e4de-4103-9b04-3ec0a891b720",
   "metadata": {},
   "outputs": [
    {
     "name": "stdout",
     "output_type": "stream",
     "text": [
      "['What is your age group?', 'What is your occupation?', 'Where do you live?', 'How many hours per day do you spend on social media?', 'How has social media affected your real-life relationships?', 'How frequently do you use email for communication?', 'Do you use LinkedIn for professional networking?', 'How often do you use WhatsApp for communication?', 'Which social media platforms do you use the most?', 'Do you feel that social media affects your mental health?']\n"
     ]
    }
   ],
   "source": [
    "print(df.columns.tolist())"
   ]
  },
  {
   "cell_type": "code",
   "execution_count": 153,
   "id": "5df26c53-7766-441b-af3f-ab6bd181225e",
   "metadata": {},
   "outputs": [],
   "source": [
    "from sklearn.model_selection import train_test_split\n",
    "\n"
   ]
  },
  {
   "cell_type": "code",
   "execution_count": 157,
   "id": "29451697-3fb7-417c-88c5-ccacc36e28b3",
   "metadata": {},
   "outputs": [
    {
     "name": "stdout",
     "output_type": "stream",
     "text": [
      "Columns in the dataset:\n",
      "['What is your age group?', 'What is your occupation?', 'Where do you live?', 'How many hours per day do you spend on social media?', 'How has social media affected your real-life relationships?', 'How frequently do you use email for communication?', 'Do you use LinkedIn for professional networking?', 'How often do you use WhatsApp for communication?', 'Which social media platforms do you use the most?', 'Do you feel that social media affects your mental health?']\n"
     ]
    }
   ],
   "source": [
    "# Step 1: Clean column names\n",
    "df.columns = df.columns.str.strip()  # remove any extra spaces\n",
    "\n",
    "# Step 2: Print all columns to see the exact names\n",
    "print(\"Columns in the dataset:\")\n",
    "print(df.columns.tolist())"
   ]
  },
  {
   "cell_type": "code",
   "execution_count": 163,
   "id": "48836389-095a-49bb-90bc-3981e6876943",
   "metadata": {},
   "outputs": [
    {
     "name": "stdout",
     "output_type": "stream",
     "text": [
      "['What is your age group?', 'What is your occupation?', 'Where do you live?', 'How many hours per day do you spend on social media?', 'How has social media affected your real-life relationships?', 'How frequently do you use email for communication?', 'Do you use LinkedIn for professional networking?', 'How often do you use WhatsApp for communication?', 'Which social media platforms do you use the most?', 'Do you feel that social media affects your mental health?']\n"
     ]
    }
   ],
   "source": [
    "import pandas as pd\n",
    "\n",
    "df = pd.read_csv(R\"C:\\Users\\ANUSHA\\Downloads\\dataset.csv\")\n",
    "df.columns = df.columns.str.strip()  # Clean column names\n",
    "print(df.columns.tolist())      "
   ]
  },
  {
   "cell_type": "code",
   "execution_count": 165,
   "id": "41abfc7c-fff5-4ada-ac66-f0885f1a1189",
   "metadata": {},
   "outputs": [
    {
     "data": {
      "text/plain": [
       "['Post_ID', 'Text', 'Likes', 'Shares', 'Comments', 'Sentiment']"
      ]
     },
     "execution_count": 165,
     "metadata": {},
     "output_type": "execute_result"
    }
   ],
   "source": [
    "['Post_ID', 'Text', 'Likes', 'Shares', 'Comments', 'Sentiment']"
   ]
  },
  {
   "cell_type": "code",
   "execution_count": 167,
   "id": "43a9052c-8623-4f2a-ad7d-6e467e7c2039",
   "metadata": {},
   "outputs": [],
   "source": [
    "target_col = 'Sentiment'"
   ]
  },
  {
   "cell_type": "code",
   "execution_count": 169,
   "id": "5e54f356-4cc4-4559-bca0-5d1827791954",
   "metadata": {},
   "outputs": [],
   "source": [
    "target_col = 'Likes'"
   ]
  }
 ],
 "metadata": {
  "kernelspec": {
   "display_name": "Python [conda env:base] *",
   "language": "python",
   "name": "conda-base-py"
  },
  "language_info": {
   "codemirror_mode": {
    "name": "ipython",
    "version": 3
   },
   "file_extension": ".py",
   "mimetype": "text/x-python",
   "name": "python",
   "nbconvert_exporter": "python",
   "pygments_lexer": "ipython3",
   "version": "3.12.7"
  }
 },
 "nbformat": 4,
 "nbformat_minor": 5
}
